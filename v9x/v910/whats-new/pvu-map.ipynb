{
 "cells": [
  {
   "cell_type": "code",
   "execution_count": 70,
   "metadata": {},
   "outputs": [],
   "source": [
    "import pandas as pd\n",
    "import geopandas as gpd\n",
    "import matplotlib.pyplot as plt\n",
    "import matplotlib.colors as colors\n",
    "import matplotlib.cm as cm\n",
    "import numpy as np\n",
    "import contextily as ctx"
   ]
  },
  {
   "cell_type": "code",
   "execution_count": 2,
   "metadata": {},
   "outputs": [],
   "source": [
    "taz = gpd.read_file(r\"D:\\GitHub\\TDM-Documentation\\v9x\\v910\\whats-new\\data\\taz\\WFv900_TAZ.shp\")[['TAZID','CO_NAME','geometry']]\n",
    "bd = pd.read_csv(r\"D:\\GitHub\\TDM-Documentation\\v9x\\v910\\whats-new\\data\\BaseDistribution.csv\")[[';Z','Airport','PVU']].rename(columns={';Z':'TAZID'})\n",
    "\n",
    "tazbd = gpd.GeoDataFrame(pd.merge(bd,taz,on='TAZID',how='left'))"
   ]
  },
  {
   "cell_type": "code",
   "execution_count": 127,
   "metadata": {},
   "outputs": [],
   "source": [
    "def plot_pvu(gdf,county):\n",
    "\n",
    "    # Fix CRS for basemap\n",
    "    if gdf.crs is None:\n",
    "        gdf.set_crs(epsg=26912, inplace=True)\n",
    "    if gdf.crs.to_string() != 'EPSG:3857':\n",
    "        gdf = gdf.to_crs(epsg=3857)\n",
    "        \n",
    "    # set color bins for legend\n",
    "    bins = [0, 1, 2, 3, 4, 5, 6, 7, 8, 9, 10, 20, 40, 60, 80, 100]\n",
    "    cmap = plt.cm.get_cmap('YlOrRd', len(bins) - 2)\n",
    "    colors_list = ['#00000000'] + [cmap(i) for i in range(cmap.N)] \n",
    "    cmap_with_gray = colors.ListedColormap(colors_list)\n",
    "    norm = colors.BoundaryNorm(bins, cmap_with_gray.N)\n",
    "    \n",
    "    # Plot the data\n",
    "    fig, ax = plt.subplots(1, 1, figsize=(10, 10))\n",
    "    \n",
    "    # Plot the TAZ polygons and color them by PVU using the new colormap\n",
    "    gdf.plot(column='PVU', cmap=cmap_with_gray, norm=norm, linewidth=0.05, ax=ax, edgecolor='black', legend=False)\n",
    "    centroid = gdf[gdf['TAZID'] == 2946].geometry.centroid\n",
    "    ax.scatter(centroid.x, centroid.y, color='blue', marker='*', s=100, edgecolor='blue', zorder=3)  # s controls dot size\n",
    "    \n",
    "    # Create the color bar with discrete intervals\n",
    "    sm = plt.cm.ScalarMappable(cmap=cmap_with_gray, norm=norm)\n",
    "    sm.set_array([])\n",
    "    cbar = plt.colorbar(sm, ax=ax, boundaries=bins, ticks=bins, shrink=0.5, aspect=12)\n",
    "    cbar.set_label('Number of Trips')\n",
    "\n",
    "    # Add basemap using contextily with OpenStreetMap\n",
    "    ctx.add_basemap(ax, source=ctx.providers.CartoDB.PositronNoLabels, alpha=.6)\n",
    "    \n",
    "    # PVU Legend\n",
    "    blue_patch = plt.Line2D([0], [0], marker='*', color='w', label='PVU', markerfacecolor='blue', markersize=15)\n",
    "    ax.legend(handles=[blue_patch], loc='upper right', bbox_to_anchor=(1.22, 0.235)) \n",
    "    \n",
    "    # Set axis limits to zoom (remove 30% from top and right)\n",
    "    xlim = ax.get_xlim()\n",
    "    ylim = ax.get_ylim()\n",
    "    \n",
    "    # Reduce by 30% on the right (x-axis) and 30% on the top (y-axis)\n",
    "    new_xlim = (xlim[0] + 0.18 * (xlim[1] - xlim[0]), xlim[0] + 0.6 * (xlim[1] - xlim[0]))\n",
    "    new_ylim = (ylim[0] + 0.15 * (ylim[1] - ylim[0]), ylim[0] + 0.58 * (ylim[1] - ylim[0]))\n",
    "    \n",
    "    # Set new axis limits\n",
    "    ax.set_xlim(new_xlim)\n",
    "    ax.set_ylim(new_ylim)\n",
    "\n",
    "    # Set plot title and labels and plot\n",
    "    ax.set_axis_off()\n",
    "    \n",
    "    plt.rcParams[\"figure.figsize\"]=6,12\n",
    "    plt.tight_layout()\n",
    "    plt.savefig(f'D:\\\\GitHub\\\\TDM-Documentation\\\\v9x\\\\v910\\\\whats-new\\\\_pictures\\\\pvu.png', bbox_inches='tight', dp=12000)\n",
    "    plt.close(fig)\n",
    "\n",
    "    plt.show\n"
   ]
  },
  {
   "cell_type": "code",
   "execution_count": 128,
   "metadata": {},
   "outputs": [
    {
     "name": "stderr",
     "output_type": "stream",
     "text": [
      "C:\\Users\\cday\\AppData\\Local\\Temp\\ipykernel_24736\\3204087333.py:54: MatplotlibDeprecationWarning: savefig() got unexpected keyword argument \"dp\" which is no longer supported as of 3.3 and will become an error two minor releases later\n",
      "  plt.savefig(f'D:\\\\GitHub\\\\TDM-Documentation\\\\v9x\\\\v910\\\\whats-new\\\\_pictures\\\\pvu.png', bbox_inches='tight', dp=12000)\n"
     ]
    }
   ],
   "source": [
    "plot_pvu(tazbd,'ALL')\n",
    "#plot_pvu(tazbd,'UTAH')\n",
    "#plot_pvu(tazbd,'SALT LAKE')"
   ]
  }
 ],
 "metadata": {
  "kernelspec": {
   "display_name": "wftdm-docs",
   "language": "python",
   "name": "python3"
  },
  "language_info": {
   "codemirror_mode": {
    "name": "ipython",
    "version": 3
   },
   "file_extension": ".py",
   "mimetype": "text/x-python",
   "name": "python",
   "nbconvert_exporter": "python",
   "pygments_lexer": "ipython3",
   "version": "3.9.19"
  }
 },
 "nbformat": 4,
 "nbformat_minor": 2
}
