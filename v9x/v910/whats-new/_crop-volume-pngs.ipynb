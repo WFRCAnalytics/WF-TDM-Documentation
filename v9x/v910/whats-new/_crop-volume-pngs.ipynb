{
 "cells": [
  {
   "cell_type": "code",
   "execution_count": 15,
   "metadata": {},
   "outputs": [],
   "source": [
    "from PIL import Image"
   ]
  },
  {
   "cell_type": "code",
   "execution_count": 26,
   "metadata": {},
   "outputs": [],
   "source": [
    "# 150%, Home button, zoom out once, F11, change basemap to non-labeled --- Windows+Shift+S click upright screen\n",
    "# legend: expand legend window all the way to bottom of screen\n",
    "im = Image.open('_pictures/v910_vs_v902_Compare_RTP_2050_Trucks.png')\n",
    "im_crop = im.crop((80, 200, 580, 1800))\n",
    "im_crop.save('_pictures/trucks2050_v910_v902.png', quality=1000)"
   ]
  },
  {
   "cell_type": "code",
   "execution_count": 82,
   "metadata": {},
   "outputs": [],
   "source": [
    "im = Image.open('_pictures/v910_vs_v902_Compare_BY_2019_All_Vehicles.png')\n",
    "im_crop = im.crop((720, 1530, 1000, 1840))\n",
    "im_crop.save('_pictures/legend.png', quality=1000)"
   ]
  },
  {
   "cell_type": "code",
   "execution_count": 3,
   "metadata": {},
   "outputs": [],
   "source": [
    "#def cropImage(pngName):\n",
    "#    im = Image.open('map_pngs/' + pngName + '.png')\n",
    "#    im_crop = im.crop((400, 400, 800, 1600))\n",
    "#    im_crop.save('map_pngs/' + pngName + '-cropped.png', quality=1000)\n",
    "#\n",
    "#def cropLegend(pngName):\n",
    "#    im = Image.open('map_pngs/' + pngName + '.png')\n",
    "#    im_crop = im.crop((480, 370, 830, 920))\n",
    "#    im_crop.save('map_pngs/' + pngName + '-cropped.png', quality=1000)"
   ]
  },
  {
   "cell_type": "code",
   "execution_count": 4,
   "metadata": {},
   "outputs": [],
   "source": [
    "#cropImage('vol19')\n",
    "#cropImage('vol50')\n",
    "#cropImage('vol19-truck')\n",
    "#cropImage('vol50-truck')\n",
    "#cropLegend('vol-legend')\n",
    "#cropLegend('vol-truck-legend')\n"
   ]
  },
  {
   "cell_type": "code",
   "execution_count": null,
   "metadata": {},
   "outputs": [],
   "source": []
  }
 ],
 "metadata": {
  "kernelspec": {
   "display_name": "wftdm-docs",
   "language": "python",
   "name": "python3"
  },
  "language_info": {
   "codemirror_mode": {
    "name": "ipython",
    "version": 3
   },
   "file_extension": ".py",
   "mimetype": "text/x-python",
   "name": "python",
   "nbconvert_exporter": "python",
   "pygments_lexer": "ipython3",
   "version": "3.9.19"
  },
  "orig_nbformat": 4
 },
 "nbformat": 4,
 "nbformat_minor": 2
}
